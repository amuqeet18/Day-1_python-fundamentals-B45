{
 "cells": [
  {
   "cell_type": "code",
   "execution_count": null,
   "id": "70606599",
   "metadata": {},
   "outputs": [],
   "source": [
    "Continuation of string"
   ]
  },
  {
   "cell_type": "code",
   "execution_count": null,
   "id": "014d4022",
   "metadata": {},
   "outputs": [],
   "source": []
  },
  {
   "cell_type": "code",
   "execution_count": null,
   "id": "b1145b29",
   "metadata": {},
   "outputs": [],
   "source": [
    "Introduction of string"
   ]
  },
  {
   "cell_type": "code",
   "execution_count": null,
   "id": "a9421d07",
   "metadata": {},
   "outputs": [],
   "source": []
  },
  {
   "cell_type": "code",
   "execution_count": 1,
   "id": "3725e346",
   "metadata": {},
   "outputs": [
    {
     "name": "stdout",
     "output_type": "stream",
     "text": [
      "divya\n"
     ]
    }
   ],
   "source": [
    "name='divya'\n",
    "print(name)"
   ]
  },
  {
   "cell_type": "code",
   "execution_count": null,
   "id": "6f011969",
   "metadata": {},
   "outputs": [],
   "source": []
  },
  {
   "cell_type": "code",
   "execution_count": 2,
   "id": "7de0650b",
   "metadata": {},
   "outputs": [
    {
     "name": "stdout",
     "output_type": "stream",
     "text": [
      "Kiran\n"
     ]
    }
   ],
   "source": [
    "name2=\"Kiran\"\n",
    "print(name2)"
   ]
  },
  {
   "cell_type": "code",
   "execution_count": null,
   "id": "79cc3664",
   "metadata": {},
   "outputs": [],
   "source": []
  },
  {
   "cell_type": "markdown",
   "id": "dffcd2f3",
   "metadata": {},
   "source": []
  },
  {
   "cell_type": "code",
   "execution_count": 3,
   "id": "2a6f339f",
   "metadata": {},
   "outputs": [
    {
     "name": "stdout",
     "output_type": "stream",
     "text": [
      "divya\n"
     ]
    }
   ],
   "source": [
    "name3=\"'david'\"\n",
    "print(name)"
   ]
  },
  {
   "cell_type": "code",
   "execution_count": null,
   "id": "e0806669",
   "metadata": {},
   "outputs": [],
   "source": [
    "type--->it is used to verify and validate datatype."
   ]
  },
  {
   "cell_type": "code",
   "execution_count": null,
   "id": "0c772e41",
   "metadata": {},
   "outputs": [],
   "source": []
  },
  {
   "cell_type": "code",
   "execution_count": 4,
   "id": "ee78d60b",
   "metadata": {},
   "outputs": [
    {
     "data": {
      "text/plain": [
       "str"
      ]
     },
     "execution_count": 4,
     "metadata": {},
     "output_type": "execute_result"
    }
   ],
   "source": [
    "type(name)"
   ]
  },
  {
   "cell_type": "code",
   "execution_count": null,
   "id": "e612b392",
   "metadata": {},
   "outputs": [],
   "source": []
  },
  {
   "cell_type": "code",
   "execution_count": 5,
   "id": "cecf03db",
   "metadata": {},
   "outputs": [
    {
     "data": {
      "text/plain": [
       "str"
      ]
     },
     "execution_count": 5,
     "metadata": {},
     "output_type": "execute_result"
    }
   ],
   "source": [
    "type(name2)"
   ]
  },
  {
   "cell_type": "code",
   "execution_count": null,
   "id": "78eaf620",
   "metadata": {},
   "outputs": [],
   "source": []
  },
  {
   "cell_type": "code",
   "execution_count": 6,
   "id": "8128519a",
   "metadata": {},
   "outputs": [
    {
     "data": {
      "text/plain": [
       "str"
      ]
     },
     "execution_count": 6,
     "metadata": {},
     "output_type": "execute_result"
    }
   ],
   "source": [
    "type(name3)"
   ]
  },
  {
   "cell_type": "code",
   "execution_count": null,
   "id": "ba60c7d2",
   "metadata": {},
   "outputs": [],
   "source": []
  },
  {
   "cell_type": "code",
   "execution_count": 7,
   "id": "5f256506",
   "metadata": {},
   "outputs": [
    {
     "name": "stdout",
     "output_type": "stream",
     "text": [
      "ravi kumar\n"
     ]
    }
   ],
   "source": [
    "fullname='ravi kumar'\n",
    "print(fullname)"
   ]
  },
  {
   "cell_type": "code",
   "execution_count": null,
   "id": "32728c89",
   "metadata": {},
   "outputs": [],
   "source": []
  },
  {
   "cell_type": "code",
   "execution_count": 8,
   "id": "ddf52729",
   "metadata": {},
   "outputs": [
    {
     "name": "stdout",
     "output_type": "stream",
     "text": [
      "Ravi Kumar\n"
     ]
    }
   ],
   "source": [
    "print(fullname.title())"
   ]
  },
  {
   "cell_type": "code",
   "execution_count": null,
   "id": "2eed70e6",
   "metadata": {},
   "outputs": [],
   "source": [
    "#req:if i want to write a particular name in capital letter"
   ]
  },
  {
   "cell_type": "code",
   "execution_count": 9,
   "id": "886215e0",
   "metadata": {},
   "outputs": [
    {
     "name": "stdout",
     "output_type": "stream",
     "text": [
      "RAVI KUMAR\n"
     ]
    }
   ],
   "source": [
    "print(fullname.upper())"
   ]
  },
  {
   "cell_type": "raw",
   "id": "82cf1e70",
   "metadata": {},
   "source": []
  },
  {
   "cell_type": "code",
   "execution_count": null,
   "id": "f0fa12d0",
   "metadata": {},
   "outputs": [],
   "source": [
    "#req:i want to print name in small case letter"
   ]
  },
  {
   "cell_type": "code",
   "execution_count": 10,
   "id": "8affcc38",
   "metadata": {},
   "outputs": [
    {
     "name": "stdout",
     "output_type": "stream",
     "text": [
      "ravi kumar\n"
     ]
    }
   ],
   "source": [
    "print(fullname.lower())"
   ]
  },
  {
   "cell_type": "code",
   "execution_count": null,
   "id": "9a76c4dd",
   "metadata": {},
   "outputs": [],
   "source": []
  },
  {
   "cell_type": "code",
   "execution_count": null,
   "id": "0bee2c35",
   "metadata": {},
   "outputs": [],
   "source": [
    "Introduction of Strings\n",
    "#general syntax of f strings \n",
    "f\"custom syntax {placeholder1},{placeholder2}...{placeholdern}\""
   ]
  },
  {
   "cell_type": "code",
   "execution_count": null,
   "id": "1b7635c6",
   "metadata": {},
   "outputs": [],
   "source": [
    "first_name='naman'"
   ]
  },
  {
   "cell_type": "code",
   "execution_count": null,
   "id": "89d02a30",
   "metadata": {},
   "outputs": [],
   "source": [
    "last_name='trivedi'"
   ]
  },
  {
   "cell_type": "code",
   "execution_count": null,
   "id": "084e37d0",
   "metadata": {},
   "outputs": [],
   "source": [
    "#req:i want to get full name..?"
   ]
  },
  {
   "cell_type": "code",
   "execution_count": 14,
   "id": "ee1152ac",
   "metadata": {},
   "outputs": [
    {
     "name": "stdout",
     "output_type": "stream",
     "text": [
      "f{first_name}{last_name}\n"
     ]
    }
   ],
   "source": [
    "full_name=\"f{first_name}{last_name}\"\n",
    "print(full_name)"
   ]
  },
  {
   "cell_type": "code",
   "execution_count": null,
   "id": "0cc022be",
   "metadata": {},
   "outputs": [],
   "source": [
    "#req:i want to appreciate naman for sending me the practice file regularly.\n"
   ]
  },
  {
   "cell_type": "code",
   "execution_count": 17,
   "id": "07b7a838",
   "metadata": {},
   "outputs": [
    {
     "ename": "SyntaxError",
     "evalue": "EOL while scanning string literal (<ipython-input-17-57acdaa2f378>, line 1)",
     "output_type": "error",
     "traceback": [
      "\u001b[1;36m  File \u001b[1;32m\"<ipython-input-17-57acdaa2f378>\"\u001b[1;36m, line \u001b[1;32m1\u001b[0m\n\u001b[1;33m    print(f\"keep up the good work){fullname.title()})\u001b[0m\n\u001b[1;37m                                                     ^\u001b[0m\n\u001b[1;31mSyntaxError\u001b[0m\u001b[1;31m:\u001b[0m EOL while scanning string literal\n"
     ]
    }
   ],
   "source": [
    "print(f\"keep up the good work){fullname.title()})"
   ]
  },
  {
   "cell_type": "code",
   "execution_count": null,
   "id": "15cafcf4",
   "metadata": {},
   "outputs": [],
   "source": []
  },
  {
   "cell_type": "code",
   "execution_count": null,
   "id": "1691c743",
   "metadata": {},
   "outputs": [],
   "source": [
    "Adding white spaces to strings:\n",
    "    #req:conducting a survey among a group of student for prog lang"
   ]
  },
  {
   "cell_type": "code",
   "execution_count": 18,
   "id": "492cbafe",
   "metadata": {},
   "outputs": [
    {
     "name": "stdout",
     "output_type": "stream",
     "text": [
      "favourite_programming:pythoncjavac++swiftcobal\n"
     ]
    }
   ],
   "source": [
    "print(\"favourite_programming:pythoncjavac++swiftcobal\")\n"
   ]
  },
  {
   "cell_type": "code",
   "execution_count": null,
   "id": "f4812b82",
   "metadata": {},
   "outputs": [],
   "source": []
  },
  {
   "cell_type": "code",
   "execution_count": 19,
   "id": "37608248",
   "metadata": {},
   "outputs": [
    {
     "name": "stdout",
     "output_type": "stream",
     "text": [
      "favourite_programming:\n",
      "pyhton\n",
      "c\n",
      "python\n",
      "c++\n",
      "swiftcobal\n"
     ]
    }
   ],
   "source": [
    "print(\"favourite_programming:\\npyhton\\nc\\npython\\nc++\\nswiftcobal\")"
   ]
  },
  {
   "cell_type": "code",
   "execution_count": null,
   "id": "821dd404",
   "metadata": {},
   "outputs": [],
   "source": []
  },
  {
   "cell_type": "code",
   "execution_count": 20,
   "id": "dfd473b9",
   "metadata": {},
   "outputs": [
    {
     "name": "stdout",
     "output_type": "stream",
     "text": [
      "favourite_programming:\n",
      "\tpython\n",
      "\tc\n",
      "\tjava\n",
      "\tc++\n",
      "\tswift\n",
      "\tglobal\n"
     ]
    }
   ],
   "source": [
    "print(\"favourite_programming:\\n\\tpython\\n\\tc\\n\\tjava\\n\\tc++\\n\\tswift\\n\\tglobal\")"
   ]
  },
  {
   "cell_type": "code",
   "execution_count": null,
   "id": "3183ec12",
   "metadata": {},
   "outputs": [],
   "source": []
  },
  {
   "cell_type": "code",
   "execution_count": null,
   "id": "37b3cda9",
   "metadata": {},
   "outputs": [],
   "source": []
  }
 ],
 "metadata": {
  "kernelspec": {
   "display_name": "Python 3",
   "language": "python",
   "name": "python3"
  },
  "language_info": {
   "codemirror_mode": {
    "name": "ipython",
    "version": 3
   },
   "file_extension": ".py",
   "mimetype": "text/x-python",
   "name": "python",
   "nbconvert_exporter": "python",
   "pygments_lexer": "ipython3",
   "version": "3.8.8"
  }
 },
 "nbformat": 4,
 "nbformat_minor": 5
}
