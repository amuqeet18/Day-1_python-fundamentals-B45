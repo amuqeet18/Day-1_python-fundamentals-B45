{
 "cells": [
  {
   "cell_type": "code",
   "execution_count": null,
   "id": "33ba2e31",
   "metadata": {},
   "outputs": [],
   "source": [
    "Continuation with the list"
   ]
  },
  {
   "cell_type": "code",
   "execution_count": null,
   "id": "b402a41e",
   "metadata": {},
   "outputs": [],
   "source": [
    "Organising the list datatype"
   ]
  },
  {
   "cell_type": "code",
   "execution_count": 1,
   "id": "3531597f",
   "metadata": {},
   "outputs": [
    {
     "name": "stdout",
     "output_type": "stream",
     "text": [
      "['suzuki', 'kia', 'tata', 'toyota', 'audi', 'bmw', 'landrover', 'benz']\n"
     ]
    }
   ],
   "source": [
    "cars=['suzuki','kia','tata','toyota','audi','bmw','landrover','benz']\n",
    "print(cars)"
   ]
  },
  {
   "cell_type": "code",
   "execution_count": 2,
   "id": "7b4128ce",
   "metadata": {},
   "outputs": [
    {
     "data": {
      "text/plain": [
       "list"
      ]
     },
     "execution_count": 2,
     "metadata": {},
     "output_type": "execute_result"
    }
   ],
   "source": [
    "type(cars)"
   ]
  },
  {
   "cell_type": "code",
   "execution_count": null,
   "id": "0fa10ae6",
   "metadata": {},
   "outputs": [],
   "source": [
    "tempapproach--->sorted order"
   ]
  },
  {
   "cell_type": "code",
   "execution_count": 3,
   "id": "60fb15c0",
   "metadata": {},
   "outputs": [
    {
     "name": "stdout",
     "output_type": "stream",
     "text": [
      "['audi', 'benz', 'bmw', 'kia', 'landrover', 'suzuki', 'tata', 'toyota']\n"
     ]
    }
   ],
   "source": [
    "print(sorted(cars))"
   ]
  },
  {
   "cell_type": "code",
   "execution_count": null,
   "id": "1ad7b0de",
   "metadata": {},
   "outputs": [],
   "source": []
  },
  {
   "cell_type": "code",
   "execution_count": null,
   "id": "27a4e1b9",
   "metadata": {},
   "outputs": [],
   "source": [
    "permanent approach--->changes are applied permanently"
   ]
  },
  {
   "cell_type": "code",
   "execution_count": null,
   "id": "c4898830",
   "metadata": {},
   "outputs": [],
   "source": [
    "cars.sort()"
   ]
  },
  {
   "cell_type": "code",
   "execution_count": 4,
   "id": "7c3338b9",
   "metadata": {},
   "outputs": [
    {
     "name": "stdout",
     "output_type": "stream",
     "text": [
      "['suzuki', 'kia', 'tata', 'toyota', 'audi', 'bmw', 'landrover', 'benz']\n"
     ]
    }
   ],
   "source": [
    "print(cars)"
   ]
  },
  {
   "cell_type": "code",
   "execution_count": 5,
   "id": "2aa017b2",
   "metadata": {},
   "outputs": [
    {
     "data": {
      "text/plain": [
       "8"
      ]
     },
     "execution_count": 5,
     "metadata": {},
     "output_type": "execute_result"
    }
   ],
   "source": [
    "len(cars)---->if i want to know total elements in the list"
   ]
  },
  {
   "cell_type": "code",
   "execution_count": 6,
   "id": "049ddcd8",
   "metadata": {},
   "outputs": [
    {
     "name": "stdout",
     "output_type": "stream",
     "text": [
      "['suzuki', 'kia', 'tata', 'toyota', 'audi', 'bmw', 'landrover', 'benz']\n"
     ]
    }
   ],
   "source": [
    "print(cars)"
   ]
  },
  {
   "cell_type": "code",
   "execution_count": 8,
   "id": "8a0aa0a4",
   "metadata": {},
   "outputs": [
    {
     "name": "stdout",
     "output_type": "stream",
     "text": [
      "['benz', 'landrover', 'bmw', 'audi', 'toyota', 'tata', 'kia', 'suzuki']\n"
     ]
    }
   ],
   "source": [
    "cars.reverse()---->if i want to print in reverse order.\n",
    "print(cars)"
   ]
  },
  {
   "cell_type": "code",
   "execution_count": null,
   "id": "d4f589ab",
   "metadata": {},
   "outputs": [],
   "source": []
  },
  {
   "cell_type": "code",
   "execution_count": null,
   "id": "f5f261bc",
   "metadata": {},
   "outputs": [],
   "source": [
    "Introduction to slicing of the list"
   ]
  },
  {
   "cell_type": "code",
   "execution_count": null,
   "id": "21b8ce32",
   "metadata": {},
   "outputs": [],
   "source": [
    "syntax:[startvalue:stopvalue:stepcount]"
   ]
  },
  {
   "cell_type": "code",
   "execution_count": 10,
   "id": "0ecbcd4f",
   "metadata": {},
   "outputs": [
    {
     "name": "stdout",
     "output_type": "stream",
     "text": [
      "['kiran', 'kumar', 'mahreen', 'divya', 'muqeet', 'bushra']\n"
     ]
    }
   ],
   "source": [
    "students=['kiran','kumar','mahreen','divya','muqeet','bushra']\n",
    "print(students)"
   ]
  },
  {
   "cell_type": "code",
   "execution_count": null,
   "id": "95973254",
   "metadata": {},
   "outputs": [],
   "source": []
  },
  {
   "cell_type": "code",
   "execution_count": 11,
   "id": "ac9de493",
   "metadata": {},
   "outputs": [
    {
     "name": "stdout",
     "output_type": "stream",
     "text": [
      "['kiran']\n"
     ]
    }
   ],
   "source": [
    "print(students[0:1])"
   ]
  },
  {
   "cell_type": "code",
   "execution_count": 12,
   "id": "1816abbc",
   "metadata": {},
   "outputs": [
    {
     "name": "stdout",
     "output_type": "stream",
     "text": [
      "['kiran', 'kumar']\n"
     ]
    }
   ],
   "source": [
    "print(students[0:2])"
   ]
  },
  {
   "cell_type": "code",
   "execution_count": 13,
   "id": "00fd3b6e",
   "metadata": {},
   "outputs": [
    {
     "name": "stdout",
     "output_type": "stream",
     "text": [
      "['mahreen', 'divya']\n"
     ]
    }
   ],
   "source": [
    "print(students[2:4])\n"
   ]
  },
  {
   "cell_type": "code",
   "execution_count": 14,
   "id": "e75a6a7a",
   "metadata": {},
   "outputs": [
    {
     "name": "stdout",
     "output_type": "stream",
     "text": [
      "['muqeet', 'bushra']\n"
     ]
    }
   ],
   "source": [
    "print(students[4:6])"
   ]
  },
  {
   "cell_type": "code",
   "execution_count": null,
   "id": "ce6ea0e4",
   "metadata": {},
   "outputs": [],
   "source": []
  },
  {
   "cell_type": "code",
   "execution_count": null,
   "id": "48cc9e9b",
   "metadata": {},
   "outputs": [],
   "source": []
  },
  {
   "cell_type": "code",
   "execution_count": null,
   "id": "16084ee5",
   "metadata": {},
   "outputs": [],
   "source": []
  }
 ],
 "metadata": {
  "kernelspec": {
   "display_name": "Python 3",
   "language": "python",
   "name": "python3"
  },
  "language_info": {
   "codemirror_mode": {
    "name": "ipython",
    "version": 3
   },
   "file_extension": ".py",
   "mimetype": "text/x-python",
   "name": "python",
   "nbconvert_exporter": "python",
   "pygments_lexer": "ipython3",
   "version": "3.8.8"
  }
 },
 "nbformat": 4,
 "nbformat_minor": 5
}
