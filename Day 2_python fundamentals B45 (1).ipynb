{
 "cells": [
  {
   "cell_type": "code",
   "execution_count": null,
   "id": "84550306",
   "metadata": {},
   "outputs": [],
   "source": [
    "understanding variables in python:\n",
    "    "
   ]
  },
  {
   "cell_type": "code",
   "execution_count": 1,
   "id": "6ab1b252",
   "metadata": {},
   "outputs": [],
   "source": [
    "x=5\n",
    "y=3"
   ]
  },
  {
   "cell_type": "code",
   "execution_count": 2,
   "id": "c5e39f1f",
   "metadata": {},
   "outputs": [
    {
     "data": {
      "text/plain": [
       "8"
      ]
     },
     "execution_count": 2,
     "metadata": {},
     "output_type": "execute_result"
    }
   ],
   "source": [
    "x+y"
   ]
  },
  {
   "cell_type": "code",
   "execution_count": null,
   "id": "363bed60",
   "metadata": {},
   "outputs": [],
   "source": []
  },
  {
   "cell_type": "code",
   "execution_count": 3,
   "id": "0bcb4b11",
   "metadata": {},
   "outputs": [
    {
     "ename": "SyntaxError",
     "evalue": "invalid syntax (<ipython-input-3-a1e309cfaf44>, line 1)",
     "output_type": "error",
     "traceback": [
      "\u001b[1;36m  File \u001b[1;32m\"<ipython-input-3-a1e309cfaf44>\"\u001b[1;36m, line \u001b[1;32m1\u001b[0m\n\u001b[1;33m    Rules for declaring varaibles in python\u001b[0m\n\u001b[1;37m          ^\u001b[0m\n\u001b[1;31mSyntaxError\u001b[0m\u001b[1;31m:\u001b[0m invalid syntax\n"
     ]
    }
   ],
   "source": [
    "Rules for declaring varaibles in python"
   ]
  },
  {
   "cell_type": "code",
   "execution_count": null,
   "id": "ebd4c889",
   "metadata": {},
   "outputs": [],
   "source": [
    "Rule 1. No name spaces while declaring the variable name.\n"
   ]
  },
  {
   "cell_type": "code",
   "execution_count": null,
   "id": "f787c889",
   "metadata": {},
   "outputs": [],
   "source": []
  },
  {
   "cell_type": "code",
   "execution_count": 4,
   "id": "b0fb799b",
   "metadata": {},
   "outputs": [
    {
     "ename": "SyntaxError",
     "evalue": "invalid syntax (<ipython-input-4-c67c917bdea2>, line 1)",
     "output_type": "error",
     "traceback": [
      "\u001b[1;36m  File \u001b[1;32m\"<ipython-input-4-c67c917bdea2>\"\u001b[1;36m, line \u001b[1;32m1\u001b[0m\n\u001b[1;33m    first name = 'Abdul\u001b[0m\n\u001b[1;37m          ^\u001b[0m\n\u001b[1;31mSyntaxError\u001b[0m\u001b[1;31m:\u001b[0m invalid syntax\n"
     ]
    }
   ],
   "source": [
    "first name = 'Abdul\n",
    "print(first name)'"
   ]
  },
  {
   "cell_type": "code",
   "execution_count": 7,
   "id": "dbbbb507",
   "metadata": {},
   "outputs": [
    {
     "name": "stdout",
     "output_type": "stream",
     "text": [
      "Abdul\n"
     ]
    }
   ],
   "source": [
    "first_name = 'Abdul'\n",
    "print(first_name)"
   ]
  },
  {
   "cell_type": "code",
   "execution_count": null,
   "id": "90551479",
   "metadata": {},
   "outputs": [],
   "source": []
  },
  {
   "cell_type": "code",
   "execution_count": null,
   "id": "66f9954f",
   "metadata": {},
   "outputs": [],
   "source": [
    "2. A variable should not start with a number"
   ]
  },
  {
   "cell_type": "code",
   "execution_count": 8,
   "id": "31e6c8a6",
   "metadata": {},
   "outputs": [
    {
     "ename": "SyntaxError",
     "evalue": "invalid syntax (<ipython-input-8-de4404b8b142>, line 1)",
     "output_type": "error",
     "traceback": [
      "\u001b[1;36m  File \u001b[1;32m\"<ipython-input-8-de4404b8b142>\"\u001b[1;36m, line \u001b[1;32m1\u001b[0m\n\u001b[1;33m    1name = 'muqeet'\u001b[0m\n\u001b[1;37m     ^\u001b[0m\n\u001b[1;31mSyntaxError\u001b[0m\u001b[1;31m:\u001b[0m invalid syntax\n"
     ]
    }
   ],
   "source": [
    "1name = 'muqeet'\n",
    "print(1name)"
   ]
  },
  {
   "cell_type": "code",
   "execution_count": 9,
   "id": "baa6a4e5",
   "metadata": {},
   "outputs": [
    {
     "name": "stdout",
     "output_type": "stream",
     "text": [
      "muqeet\n"
     ]
    }
   ],
   "source": [
    "name1 = 'muqeet'\n",
    "print(name1)"
   ]
  },
  {
   "cell_type": "code",
   "execution_count": null,
   "id": "5da83fb5",
   "metadata": {},
   "outputs": [],
   "source": []
  },
  {
   "cell_type": "markdown",
   "id": "84de6f33",
   "metadata": {},
   "source": [
    "3. A variable should not start contain any special characters."
   ]
  },
  {
   "cell_type": "code",
   "execution_count": null,
   "id": "a82cc7a4",
   "metadata": {},
   "outputs": [],
   "source": [
    "like @$"
   ]
  },
  {
   "cell_type": "code",
   "execution_count": 10,
   "id": "753b258d",
   "metadata": {},
   "outputs": [
    {
     "ename": "NameError",
     "evalue": "name 'name' is not defined",
     "output_type": "error",
     "traceback": [
      "\u001b[1;31m---------------------------------------------------------------------------\u001b[0m",
      "\u001b[1;31mNameError\u001b[0m                                 Traceback (most recent call last)",
      "\u001b[1;32m<ipython-input-10-2dfd6e0a0f01>\u001b[0m in \u001b[0;36m<module>\u001b[1;34m\u001b[0m\n\u001b[1;32m----> 1\u001b[1;33m \u001b[0mname\u001b[0m\u001b[1;33m@=\u001b[0m\u001b[1;33m(\u001b[0m\u001b[0mkiran\u001b[0m\u001b[1;33m)\u001b[0m\u001b[1;33m\u001b[0m\u001b[1;33m\u001b[0m\u001b[0m\n\u001b[0m",
      "\u001b[1;31mNameError\u001b[0m: name 'name' is not defined"
     ]
    }
   ],
   "source": [
    "name@=(kiran)"
   ]
  },
  {
   "cell_type": "code",
   "execution_count": null,
   "id": "43164910",
   "metadata": {},
   "outputs": [],
   "source": []
  },
  {
   "cell_type": "code",
   "execution_count": null,
   "id": "39b1270b",
   "metadata": {},
   "outputs": [],
   "source": [
    "Introduction to data types in python\n",
    "1.string--->str\n",
    "2.Numebers-->integers(int) and floats(decimals)\n",
    "3.List---->list\n",
    "4.tupl--->tuple\n",
    "5.Dictionary---->dict\n"
   ]
  },
  {
   "cell_type": "code",
   "execution_count": 11,
   "id": "7ae914fa",
   "metadata": {},
   "outputs": [
    {
     "ename": "SyntaxError",
     "evalue": "invalid syntax (<ipython-input-11-93c42b0e9bea>, line 1)",
     "output_type": "error",
     "traceback": [
      "\u001b[1;36m  File \u001b[1;32m\"<ipython-input-11-93c42b0e9bea>\"\u001b[1;36m, line \u001b[1;32m1\u001b[0m\n\u001b[1;33m    classification of data types:\u001b[0m\n\u001b[1;37m                   ^\u001b[0m\n\u001b[1;31mSyntaxError\u001b[0m\u001b[1;31m:\u001b[0m invalid syntax\n"
     ]
    }
   ],
   "source": [
    "classification of data types\n",
    "1.Mutable data type --->which we can edit or alter--->fixed\n",
    "2.Immutable data type--->which we cannot edit or alter--->fixed\n"
   ]
  },
  {
   "cell_type": "code",
   "execution_count": null,
   "id": "de41a2df",
   "metadata": {},
   "outputs": [],
   "source": []
  },
  {
   "cell_type": "code",
   "execution_count": null,
   "id": "25b69d16",
   "metadata": {},
   "outputs": [],
   "source": [
    "Introduction to string data types\n",
    "Overview:A string is nothing but a series of character declared in quotes.\n",
    "classification:it is classified as a immutable data type(fixed)."
   ]
  },
  {
   "cell_type": "code",
   "execution_count": null,
   "id": "6afee10e",
   "metadata": {},
   "outputs": [],
   "source": []
  },
  {
   "cell_type": "code",
   "execution_count": null,
   "id": "63555eee",
   "metadata": {},
   "outputs": [],
   "source": [
    "How to declare the string data type\n",
    "1.single quote\n",
    "2.double quote\n",
    "3.triple quote\n"
   ]
  },
  {
   "cell_type": "code",
   "execution_count": 12,
   "id": "83974f75",
   "metadata": {},
   "outputs": [
    {
     "name": "stdout",
     "output_type": "stream",
     "text": [
      "krishna\n"
     ]
    }
   ],
   "source": [
    "name1= 'krishna'\n",
    "print(name)"
   ]
  },
  {
   "cell_type": "code",
   "execution_count": 14,
   "id": "becb668b",
   "metadata": {},
   "outputs": [
    {
     "name": "stdout",
     "output_type": "stream",
     "text": [
      "priya\n"
     ]
    }
   ],
   "source": [
    "name2 = \"priya\"\n",
    "print(name2)\n"
   ]
  },
  {
   "cell_type": "code",
   "execution_count": 18,
   "id": "e3421d24",
   "metadata": {},
   "outputs": [
    {
     "name": "stdout",
     "output_type": "stream",
     "text": [
      "\"muqeet\"\n"
     ]
    }
   ],
   "source": [
    "name3 ='\"muqeet\"'\n",
    "\n",
    "print(name3)"
   ]
  },
  {
   "cell_type": "code",
   "execution_count": null,
   "id": "1064ca28",
   "metadata": {},
   "outputs": [],
   "source": []
  },
  {
   "cell_type": "code",
   "execution_count": null,
   "id": "cfaa710f",
   "metadata": {},
   "outputs": [],
   "source": [
    "Introduction to strings methods\n",
    "these are nothing but built in programs and are available to use\n",
    "type-->it is used to validate and know data types of the varaibles created"
   ]
  },
  {
   "cell_type": "code",
   "execution_count": 19,
   "id": "5fda7f20",
   "metadata": {},
   "outputs": [
    {
     "data": {
      "text/plain": [
       "str"
      ]
     },
     "execution_count": 19,
     "metadata": {},
     "output_type": "execute_result"
    }
   ],
   "source": [
    "type(name)\n"
   ]
  },
  {
   "cell_type": "code",
   "execution_count": 20,
   "id": "03c1c71c",
   "metadata": {},
   "outputs": [
    {
     "data": {
      "text/plain": [
       "str"
      ]
     },
     "execution_count": 20,
     "metadata": {},
     "output_type": "execute_result"
    }
   ],
   "source": [
    "type(name2)"
   ]
  },
  {
   "cell_type": "code",
   "execution_count": 21,
   "id": "0751d987",
   "metadata": {},
   "outputs": [
    {
     "data": {
      "text/plain": [
       "str"
      ]
     },
     "execution_count": 21,
     "metadata": {},
     "output_type": "execute_result"
    }
   ],
   "source": [
    "type(name3)"
   ]
  },
  {
   "cell_type": "code",
   "execution_count": 24,
   "id": "f6188f6e",
   "metadata": {},
   "outputs": [
    {
     "name": "stdout",
     "output_type": "stream",
     "text": [
      "santosh kumar\n"
     ]
    }
   ],
   "source": [
    "fullname = 'santosh kumar'\n",
    "print(fullname)"
   ]
  },
  {
   "cell_type": "code",
   "execution_count": null,
   "id": "e63e9f0c",
   "metadata": {},
   "outputs": [],
   "source": [
    "#req:to make above full name in the correct format"
   ]
  },
  {
   "cell_type": "code",
   "execution_count": 25,
   "id": "6653f092",
   "metadata": {},
   "outputs": [
    {
     "name": "stdout",
     "output_type": "stream",
     "text": [
      "Santosh Kumar\n"
     ]
    }
   ],
   "source": [
    "print(fullname.title())"
   ]
  },
  {
   "cell_type": "code",
   "execution_count": null,
   "id": "13c024e7",
   "metadata": {},
   "outputs": [],
   "source": [
    "#req:i want to make entire name in capital"
   ]
  },
  {
   "cell_type": "code",
   "execution_count": 26,
   "id": "54d2f96f",
   "metadata": {},
   "outputs": [
    {
     "name": "stdout",
     "output_type": "stream",
     "text": [
      "SANTOSH KUMAR\n"
     ]
    }
   ],
   "source": [
    "print(fullname.upper())"
   ]
  },
  {
   "cell_type": "code",
   "execution_count": 27,
   "id": "e7b9c463",
   "metadata": {},
   "outputs": [
    {
     "name": "stdout",
     "output_type": "stream",
     "text": [
      "santosh kumar\n"
     ]
    }
   ],
   "source": [
    "#req:i want to make the name into small case letter \n",
    "print(fullname.lower())"
   ]
  },
  {
   "cell_type": "code",
   "execution_count": null,
   "id": "141a0e70",
   "metadata": {},
   "outputs": [],
   "source": []
  }
 ],
 "metadata": {
  "kernelspec": {
   "display_name": "Python 3",
   "language": "python",
   "name": "python3"
  },
  "language_info": {
   "codemirror_mode": {
    "name": "ipython",
    "version": 3
   },
   "file_extension": ".py",
   "mimetype": "text/x-python",
   "name": "python",
   "nbconvert_exporter": "python",
   "pygments_lexer": "ipython3",
   "version": "3.8.8"
  }
 },
 "nbformat": 4,
 "nbformat_minor": 5
}
